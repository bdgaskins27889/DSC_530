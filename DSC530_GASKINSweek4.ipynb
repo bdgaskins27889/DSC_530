{
 "cells": [
  {
   "cell_type": "code",
   "execution_count": 24,
   "id": "6c067a95-a7d6-4a34-95ee-47591a59a64a",
   "metadata": {},
   "outputs": [
    {
     "ename": "NameError",
     "evalue": "name 'download' is not defined",
     "output_type": "error",
     "traceback": [
      "\u001b[0;31m---------------------------------------------------------------------------\u001b[0m",
      "\u001b[0;31mNameError\u001b[0m                                 Traceback (most recent call last)",
      "Cell \u001b[0;32mIn[24], line 1\u001b[0m\n\u001b[0;32m----> 1\u001b[0m download(\u001b[38;5;124m\"\u001b[39m\u001b[38;5;124mhttps://github.com/AllenDowney/ThinkStats2/raw/master/code/2002FemResp.dct\u001b[39m\u001b[38;5;124m\"\u001b[39m)\n\u001b[1;32m      2\u001b[0m download(\u001b[38;5;124m\"\u001b[39m\u001b[38;5;124mhttps://github.com/AllenDowney/ThinkStats2/raw/master/code/2002FemResp.dat.gz\u001b[39m\u001b[38;5;124m\"\u001b[39m)\n\u001b[1;32m      3\u001b[0m resp \u001b[38;5;241m=\u001b[39m nsfg\u001b[38;5;241m.\u001b[39mReadFemResp()\n",
      "\u001b[0;31mNameError\u001b[0m: name 'download' is not defined"
     ]
    }
   ],
   "source": [
    "download(\"https://github.com/AllenDowney/ThinkStats2/raw/master/code/2002FemResp.dct\")\n",
    "download(\"https://github.com/AllenDowney/ThinkStats2/raw/master/code/2002FemResp.dat.gz\")\n",
    "resp = nsfg.ReadFemResp()\n",
    "# Solution\n",
    "\n",
    "pmf = thinkstats2.Pmf(resp.numkdhh, label=\"numkdhh\")\n",
    "# Solution\n",
    "\n",
    "thinkplot.Pmf(pmf)\n",
    "thinkplot.Config(xlabel=\"Number of children\", ylabel=\"PMF\")\n",
    "\n",
    "# Solution\n",
    "\n",
    "biased = BiasPmf(pmf, label=\"biased\")\n",
    "# Solution\n",
    "\n",
    "thinkplot.PrePlot(2)\n",
    "thinkplot.Pmfs([pmf, biased])\n",
    "thinkplot.Config(xlabel=\"Number of children\", ylabel=\"PMF\")\n",
    "\n",
    "# Solution\n",
    "\n",
    "pmf.Mean()\n",
    "1.024205155043831\n",
    "# Solution\n",
    "\n",
    "biased.Mean()\n",
    "2.403679100664282"
   ]
  },
  {
   "cell_type": "code",
   "execution_count": null,
   "id": "cde953bf-2422-4d63-9383-7602590e4917",
   "metadata": {},
   "outputs": [],
   "source": []
  }
 ],
 "metadata": {
  "kernelspec": {
   "display_name": "Python 3 (ipykernel)",
   "language": "python",
   "name": "python3"
  },
  "language_info": {
   "codemirror_mode": {
    "name": "ipython",
    "version": 3
   },
   "file_extension": ".py",
   "mimetype": "text/x-python",
   "name": "python",
   "nbconvert_exporter": "python",
   "pygments_lexer": "ipython3",
   "version": "3.11.7"
  }
 },
 "nbformat": 4,
 "nbformat_minor": 5
}

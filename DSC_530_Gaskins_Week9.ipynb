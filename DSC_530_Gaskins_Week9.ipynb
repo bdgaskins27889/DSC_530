{
 "cells": [
  {
   "cell_type": "markdown",
   "id": "890ef3c9",
   "metadata": {},
   "source": [
    "## DSC 530 - Week 9 Assignment\n",
    "### Name: Barbara Gaskins\n",
    "\n",
    "### Exercises 11-3 and 11-4"
   ]
  },
  {
   "cell_type": "markdown",
   "id": "2c40e33e",
   "metadata": {},
   "source": [
    "## Exercise 11-3: Poisson Regression\n",
    "Predicting the **number of children a woman has** based on demographic factors."
   ]
  },
  {
   "cell_type": "code",
   "execution_count": null,
   "id": "afc9884e",
   "metadata": {},
   "outputs": [],
   "source": [
    "\n",
    "import nsfg\n",
    "import pandas as pd\n",
    "import statsmodels.formula.api as smf\n",
    "\n",
    "# Load and prepare data\n",
    "live = live[live.prglngth > 30]\n",
    "resp = nsfg.ReadFemResp()\n",
    "resp.index = resp.caseid\n",
    "join = live.join(resp, on='caseid', rsuffix='_r')\n",
    "\n",
    "join['age2'] = join.age_r**2\n",
    "\n",
    "# Define Poisson regression model\n",
    "formula = 'numbabes ~ age_r + age2 + C(race) + totincr + educat'\n",
    "model = smf.poisson(formula, data=join)\n",
    "results = model.fit()\n",
    "print(results.summary())\n",
    "\n",
    "# Prediction for a woman who is:\n",
    "# - 35 years old\n",
    "# - Black\n",
    "# - College graduate\n",
    "# - Household income > $75,000\n",
    "columns = ['age_r', 'age2', 'race', 'totincr', 'educat']\n",
    "prediction_df = pd.DataFrame([[35, 35**2, 1, 14, 16]], columns=columns)\n",
    "\n",
    "# Predict number of children\n",
    "predicted_children = results.predict(prediction_df)\n",
    "print(\"Predicted number of children:\", predicted_children)\n"
   ]
  },
  {
   "cell_type": "markdown",
   "id": "6254d0c8",
   "metadata": {},
   "source": [
    "## Exercise 11-4: Multinomial Logistic Regression\n",
    "Predicting a **woman's marital status** based on demographic factors."
   ]
  },
  {
   "cell_type": "code",
   "execution_count": null,
   "id": "21ee51a7",
   "metadata": {},
   "outputs": [],
   "source": [
    "\n",
    "import statsmodels.formula.api as smf\n",
    "\n",
    "# Define multinomial logistic regression model\n",
    "model = smf.mnlogit('rmarital ~ age_r + C(race) + totincr + educat', data=join)\n",
    "results = model.fit()\n",
    "print(results.summary())\n",
    "\n",
    "# Prediction for a woman who is:\n",
    "# - 25 years old\n",
    "# - White\n",
    "# - High school graduate\n",
    "# - Household income of ~$45,000\n",
    "columns = ['age_r', 'race', 'totincr', 'educat']\n",
    "new = pd.DataFrame([[25, 2, 11, 12]], columns=columns)\n",
    "\n",
    "# Predict probabilities for marital status categories\n",
    "predicted_marital_status = results.predict(new)\n",
    "print(\"Predicted probabilities for marital status:\n",
    "\", predicted_marital_status)\n"
   ]
  }
 ],
 "metadata": {},
 "nbformat": 4,
 "nbformat_minor": 5
}
